{
 "cells": [
  {
   "cell_type": "markdown",
   "metadata": {},
   "source": [
    "# Free Music Alternative Playlists\n",
    "Create your playlists! :D"
   ]
  },
  {
   "cell_type": "code",
   "execution_count": 1,
   "metadata": {},
   "outputs": [],
   "source": [
    "import pickle\n",
    "import random\n",
    "import numpy as np\n",
    "import pandas as pd\n",
    "import networkx as nx\n",
    "from pygsp import graphs, filters\n",
    "from scipy.spatial import cKDTree\n",
    "\n",
    "# Interactive output\n",
    "import ipywidgets as widgets\n",
    "from ipywidgets import interact, interactive, fixed, interact_manual"
   ]
  },
  {
   "cell_type": "markdown",
   "metadata": {},
   "source": [
    "# Parameters"
   ]
  },
  {
   "cell_type": "code",
   "execution_count": 2,
   "metadata": {},
   "outputs": [],
   "source": [
    "N = 10;  # songs in the playlist\n",
    "\n",
    "tau = 85 # heat diffusion coefficient in the range [20:100]\n",
    "         # This parameter corresponds to the spreading of the exploration\n",
    "         # in case you use method 2. Higher tau => more variety"
   ]
  },
  {
   "cell_type": "markdown",
   "metadata": {},
   "source": [
    "# Data Loading"
   ]
  },
  {
   "cell_type": "code",
   "execution_count": 3,
   "metadata": {},
   "outputs": [],
   "source": [
    "# Load data\n",
    "dataSet = pd.read_pickle('data/dataSet.csv')\n",
    "dfmax=np.load('data/dfmax.npy')\n",
    "tracks = pd.read_csv('data/tracks.csv', index_col=0, header=[0, 1]);\n",
    "tracks_raw = pd.read_csv('data/raw_tracks.csv', index_col=0);"
   ]
  },
  {
   "cell_type": "code",
   "execution_count": 4,
   "metadata": {},
   "outputs": [],
   "source": [
    "# Load custom songs features\n",
    "features_c = pd.read_csv('data/custom_features.csv', index_col=0, header=[0, 1, 2], sep=',', encoding='utf-8')\n",
    "tid_c = pd.read_csv('data/custom_tid.csv', index_col=0, header=[0], sep=',', encoding='utf-8')\n",
    "\n",
    "features_c=features_c.divide(dfmax)\n",
    "numb_cust=len(features_c)\n",
    "# Uncomment to see the extracted features\n",
    "#features_c.head()"
   ]
  },
  {
   "cell_type": "markdown",
   "metadata": {},
   "source": [
    "# Functions\n",
    "Functions used, primarily for displaying the playlists"
   ]
  },
  {
   "cell_type": "code",
   "execution_count": 5,
   "metadata": {},
   "outputs": [],
   "source": [
    "# Playlists\n",
    "meta_playlist = dict()\n",
    "\n",
    "# Dictionary to link the node position and the track ID\n",
    "idx_dict={i : dataSet.index[i] for i in range(len(dataSet.index))}  \n",
    "inv_dict = {v: k for k, v in idx_dict.items()}"
   ]
  },
  {
   "cell_type": "code",
   "execution_count": 6,
   "metadata": {},
   "outputs": [],
   "source": [
    "def make_clickable(val):\n",
    "    # target _blank to open new window\n",
    "    return '<a target=\"_blank\" href=\"{}\">{}</a>'.format(val, 'Open')+'&nbsp;&nbsp;&nbsp;&nbsp;&nbsp;&nbsp;&nbsp'+'<a target=\"_blank\" href=\"{}\">{}</a>'.format(val+'/download', 'Download')"
   ]
  },
  {
   "cell_type": "code",
   "execution_count": 7,
   "metadata": {},
   "outputs": [],
   "source": [
    "def display_result(playlist):\n",
    "    result=pd.DataFrame({'Artist': tracks.artist.name[playlist], \\\n",
    "                         'Title':tracks.track.title[playlist], \\\n",
    "                         'Links':tracks_raw['track_url'][playlist]}) \n",
    "\n",
    "    # Output \n",
    "    result.reset_index(inplace=True)\n",
    "    result.drop(columns='track_id',inplace=True)\n",
    "    result = result.style.format({'Links':make_clickable})\n",
    "    \n",
    "    # Output\n",
    "    display(result)"
   ]
  },
  {
   "cell_type": "markdown",
   "metadata": {},
   "source": [
    "# 518D"
   ]
  },
  {
   "cell_type": "code",
   "execution_count": 8,
   "metadata": {},
   "outputs": [],
   "source": [
    "# Convert to np.array\n",
    "points_ref = np.array([tuple(x) for x in dataSet.drop(columns='label',level=0).values])\n",
    "\n",
    "# Construct the KD Tree\n",
    "tree = cKDTree(points_ref)"
   ]
  },
  {
   "cell_type": "code",
   "execution_count": 9,
   "metadata": {},
   "outputs": [],
   "source": [
    "#list of the tracks nearest to each custom song\n",
    "nearest_tracks=dict()\n",
    "\n",
    "# sub-meta playlist\n",
    "over_playlist = list()\n",
    "\n",
    "# For each Playlist we find the nearest point in the KD-Tree with the given songs\n",
    "for name in tid_c['Playlist name'].unique():\n",
    "    tid = np.array(tid_c[tid_c['Playlist name'] == name].index.values)\n",
    "    \n",
    "    # For each features we extract the track id for the corresponding playlist\n",
    "    features_c_t = np.array([features_c[features_c.index == idx].values[0] for idx in tid])\n",
    "    \n",
    "    # Find the 10th nearest points with Euclidean norm in the tree\n",
    "    dist, idx = tree.query(features_c_t, k=N, p=2)\n",
    "    \n",
    "    # We get the correspond Track ID from the position IDX\n",
    "    playlist = list([idx_dict[node] for node in idx.ravel()])\n",
    "    \n",
    "    # For each song in the playlist we get the best match and store it for later use\n",
    "    top_tracks = [idx_dict[x] for x in idx[:,0]]\n",
    "    nearest_tracks.update({name:top_tracks})\n",
    "    \n",
    "    # Select in the closest neighbours N random tracks\n",
    "    playlist = random.sample(playlist,N)\n",
    "    \n",
    "    # Add to sub-meta playlist\n",
    "    over_playlist.append(playlist)\n",
    "\n",
    "#\n",
    "meta_playlist.update({'518D':over_playlist})"
   ]
  },
  {
   "cell_type": "markdown",
   "metadata": {},
   "source": [
    "## 2-D coords based"
   ]
  },
  {
   "cell_type": "code",
   "execution_count": 10,
   "metadata": {},
   "outputs": [],
   "source": [
    "# Create the KD-Tree from the graphs coordinates\n",
    "coords2D = np.load(\"data/coords2D.npy\").item()\n",
    "\n",
    "graphCoords=list()\n",
    "for i in coords2D:\n",
    "    graphCoords.append(tuple(coords2D[i]))\n",
    "\n",
    "graphCoords=np.array(graphCoords)\n",
    "graphTree = cKDTree(graphCoords)"
   ]
  },
  {
   "cell_type": "code",
   "execution_count": 11,
   "metadata": {
    "scrolled": false
   },
   "outputs": [],
   "source": [
    "over_playlist = list()\n",
    "\n",
    "# For each playlist, access nearest tracks\n",
    "for name in tid_c['Playlist name'].unique():\n",
    "    \n",
    "    playlist=list()\n",
    "    # Retrieve the closest track ID for the given playlist\n",
    "    tid = nearest_tracks[name]\n",
    "    \n",
    "    # Find closest tracks in the graph for a given custom song\n",
    "    dist, idx = graphTree.query([tuple(coords2D[x]) for x in tid], k=N, p=2)\n",
    "    \n",
    "    # Create the playlist\n",
    "    playlist = list([idx_dict[node] for node in idx.ravel()])\n",
    "\n",
    "    # Select in the closest neighbours N random tracks\n",
    "    playlist=random.sample(playlist,N)\n",
    "\n",
    "    # Add to sub-meta playlist\n",
    "    over_playlist.append(playlist)\n",
    "    \n",
    "#\n",
    "meta_playlist.update({'2D':over_playlist})"
   ]
  },
  {
   "cell_type": "markdown",
   "metadata": {},
   "source": [
    "## Heat Music"
   ]
  },
  {
   "cell_type": "code",
   "execution_count": null,
   "metadata": {},
   "outputs": [],
   "source": [
    "# Construct Graph\n",
    "conn_graph = np.load(\"data/connGraph.npy\")\n",
    "G = graphs.Graph(conn_graph)\n",
    "G.compute_fourier_basis()\n",
    "G.set_coordinates()"
   ]
  },
  {
   "cell_type": "code",
   "execution_count": null,
   "metadata": {},
   "outputs": [],
   "source": [
    "over_playlist = list()\n",
    "\n",
    "# For each playlist, access nearest tracks\n",
    "for name in tid_c['Playlist name'].unique():\n",
    "\n",
    "    # Map the nearest track IDs to the nodes position\n",
    "    musics_pos = [inv_dict[tid] for tid in nearest_tracks[name]]\n",
    "\n",
    "    list_heat_neighbour = np.array([]).astype(int)\n",
    "    s_out_moy = np.zeros(G.N)\n",
    "\n",
    "    for i in musics_pos:\n",
    "        s = np.zeros(G.N)\n",
    "        s[i]=1\n",
    "\n",
    "        g = filters.Heat(G, tau, normalize=False)\n",
    "        s_out = g.filter(s, method='chebyshev')\n",
    "        s_out = s_out/max(s_out)\n",
    "\n",
    "        s_out_moy = s_out_moy + s_out\n",
    "\n",
    "    ind_max_heat = np.argsort(s_out_moy)\n",
    "    list_heat_neighbour= np.append(list_heat_neighbour,ind_max_heat[-N:])\n",
    "    \n",
    "    # Create the playlist\n",
    "    playlist = [idx_dict[idx] for idx in list_heat_neighbour]\n",
    "    \n",
    "    # Select in the closest neighbours N random tracks\n",
    "    playlist = random.sample(playlist,N)\n",
    "\n",
    "    # Add to sub-meta playlist\n",
    "    over_playlist.append(playlist)\n",
    "    \n",
    "# \n",
    "meta_playlist.update({'Heat':over_playlist})"
   ]
  },
  {
   "cell_type": "markdown",
   "metadata": {},
   "source": [
    "# Output"
   ]
  },
  {
   "cell_type": "code",
   "execution_count": null,
   "metadata": {},
   "outputs": [],
   "source": [
    "def method_selection(m):\n",
    "\n",
    "    for i,playlist in enumerate(tid_c['Playlist name'].unique()):\n",
    "        print('Playlist:', playlist)\n",
    "        display_result(meta_playlist[m][i])"
   ]
  },
  {
   "cell_type": "code",
   "execution_count": null,
   "metadata": {},
   "outputs": [],
   "source": [
    "# '518D' -> 518D features space | closely related songs, tonality and rythm are well respected, more genre mixity\n",
    "# '2D' -> 2D graphs coords      | closely related, but staying within the same genre\n",
    "# 'Heat' -> Heat diffusion      | more variety, depending on the tau parameter\n",
    "interact(method_selection, m=['518D','2D', 'Heat']);"
   ]
  }
 ],
 "metadata": {
  "kernelspec": {
   "display_name": "Python 3",
   "language": "python",
   "name": "python3"
  },
  "language_info": {
   "codemirror_mode": {
    "name": "ipython",
    "version": 3
   },
   "file_extension": ".py",
   "mimetype": "text/x-python",
   "name": "python",
   "nbconvert_exporter": "python",
   "pygments_lexer": "ipython3",
   "version": "3.6.6"
  }
 },
 "nbformat": 4,
 "nbformat_minor": 2
}
