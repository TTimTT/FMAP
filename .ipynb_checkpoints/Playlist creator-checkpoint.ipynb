{
 "cells": [
  {
   "cell_type": "markdown",
   "metadata": {},
   "source": [
    "# Free Music Alternative Playlists\n",
    "Create your playlists! :D"
   ]
  },
  {
   "cell_type": "code",
   "execution_count": 1,
   "metadata": {},
   "outputs": [],
   "source": [
    "import pickle\n",
    "import random\n",
    "import numpy as np\n",
    "import pandas as pd\n",
    "import networkx as nx\n",
    "from pygsp import graphs, filters\n",
    "from scipy.spatial import cKDTree\n",
    "\n",
    "# Interactive output\n",
    "import ipywidgets as widgets\n",
    "from ipywidgets import interact, interactive, fixed, interact_manual"
   ]
  },
  {
   "cell_type": "markdown",
   "metadata": {},
   "source": [
    "# Parameters"
   ]
  },
  {
   "cell_type": "code",
   "execution_count": 2,
   "metadata": {},
   "outputs": [],
   "source": [
    "N = 10;  # songs in the playlist\n",
    "\n",
    "tau = 85 # heat diffusion coefficient in the range [20:100]\n",
    "         # This parameter corresponds to the spreading of the exploration\n",
    "         # in case you use method 2. Higher tau => more variety"
   ]
  },
  {
   "cell_type": "markdown",
   "metadata": {},
   "source": [
    "# Data Loading"
   ]
  },
  {
   "cell_type": "code",
   "execution_count": 3,
   "metadata": {},
   "outputs": [],
   "source": [
    "# Load data\n",
    "dataSet = pd.read_pickle('data/dataSet.csv')\n",
    "dfmax=np.load('data/dfmax.npy')\n",
    "tracks = pd.read_csv('data/tracks.csv', index_col=0, header=[0, 1]);\n",
    "tracks_raw = pd.read_csv('data/raw_tracks.csv', index_col=0);"
   ]
  },
  {
   "cell_type": "code",
   "execution_count": 4,
   "metadata": {},
   "outputs": [],
   "source": [
    "# Load custom songs features\n",
    "features_c = pd.read_csv('data/custom_features.csv', index_col=0, header=[0, 1, 2], sep=',', encoding='utf-8')\n",
    "tid_c = pd.read_csv('data/custom_tid.csv', index_col=0, header=[0], sep=',', encoding='utf-8')\n",
    "\n",
    "features_c=features_c.divide(dfmax)\n",
    "numb_cust=len(features_c)\n",
    "# Uncomment to see the extracted features\n",
    "#features_c.head()"
   ]
  },
  {
   "cell_type": "markdown",
   "metadata": {},
   "source": [
    "# Functions\n",
    "Functions used, primarily for displaying the playlists"
   ]
  },
  {
   "cell_type": "code",
   "execution_count": 5,
   "metadata": {},
   "outputs": [],
   "source": [
    "# Playlists\n",
    "meta_playlist = dict()\n",
    "\n",
    "# Dictionary to link the node position and the track ID\n",
    "idx_dict={i : dataSet.index[i] for i in range(len(dataSet.index))}  \n",
    "inv_dict = {v: k for k, v in idx_dict.items()}"
   ]
  },
  {
   "cell_type": "code",
   "execution_count": 6,
   "metadata": {},
   "outputs": [],
   "source": [
    "def make_clickable(val):\n",
    "    # target _blank to open new window\n",
    "    return '<a target=\"_blank\" href=\"{}\">{}</a>'.format(val, 'Open')+'&nbsp;&nbsp;&nbsp;&nbsp;&nbsp;&nbsp;&nbsp'+'<a target=\"_blank\" href=\"{}\">{}</a>'.format(val+'/download', 'Download')"
   ]
  },
  {
   "cell_type": "code",
   "execution_count": 7,
   "metadata": {},
   "outputs": [],
   "source": [
    "def display_result(playlist):\n",
    "    result=pd.DataFrame({'Artist': tracks.artist.name[playlist], \\\n",
    "                         'Title':tracks.track.title[playlist], \\\n",
    "                         'Links':tracks_raw['track_url'][playlist]}) \n",
    "\n",
    "    # Output \n",
    "    result.reset_index(inplace=True)\n",
    "    result.drop(columns='track_id',inplace=True)\n",
    "    result = result.style.format({'Links':make_clickable})\n",
    "    \n",
    "    # Output\n",
    "    display(result)"
   ]
  },
  {
   "cell_type": "markdown",
   "metadata": {},
   "source": [
    "# 518D"
   ]
  },
  {
   "cell_type": "code",
   "execution_count": 8,
   "metadata": {},
   "outputs": [],
   "source": [
    "# Convert to np.array\n",
    "points_ref = np.array([tuple(x) for x in dataSet.drop(columns='label',level=0).values])\n",
    "\n",
    "# Construct the KD Tree\n",
    "tree = cKDTree(points_ref)"
   ]
  },
  {
   "cell_type": "code",
   "execution_count": 9,
   "metadata": {},
   "outputs": [],
   "source": [
    "#list of the tracks nearest to each custom song\n",
    "nearest_tracks=dict()\n",
    "\n",
    "# sub-meta playlist\n",
    "over_playlist = list()\n",
    "\n",
    "# For each Playlist we find the nearest point in the KD-Tree with the given songs\n",
    "for name in tid_c['Playlist name'].unique():\n",
    "    tid = np.array(tid_c[tid_c['Playlist name'] == name].index.values)\n",
    "    \n",
    "    # For each features we extract the track id for the corresponding playlist\n",
    "    features_c_t = np.array([features_c[features_c.index == idx].values[0] for idx in tid])\n",
    "    \n",
    "    # Find the 10th nearest points with Euclidean norm in the tree\n",
    "    dist, idx = tree.query(features_c_t, k=N, p=2)\n",
    "    \n",
    "    # We get the correspond Track ID from the position IDX\n",
    "    playlist = list([idx_dict[node] for node in idx.ravel()])\n",
    "    \n",
    "    # For each song in the playlist we get the best match and store it for later use\n",
    "    top_tracks = [idx_dict[x] for x in idx[:,0]]\n",
    "    nearest_tracks.update({name:top_tracks})\n",
    "    \n",
    "    # Select in the closest neighbours N random tracks\n",
    "    playlist = random.sample(playlist,N)\n",
    "    \n",
    "    # Add to sub-meta playlist\n",
    "    over_playlist.append(playlist)\n",
    "\n",
    "#\n",
    "meta_playlist.update({'518D':over_playlist})"
   ]
  },
  {
   "cell_type": "markdown",
   "metadata": {},
   "source": [
    "## 2-D coords based"
   ]
  },
  {
   "cell_type": "code",
   "execution_count": 10,
   "metadata": {},
   "outputs": [],
   "source": [
    "# Create the KD-Tree from the graphs coordinates\n",
    "coords2D = np.load(\"data/coords2D.npy\").item()\n",
    "\n",
    "graphCoords=list()\n",
    "for i in coords2D:\n",
    "    graphCoords.append(tuple(coords2D[i]))\n",
    "\n",
    "graphCoords=np.array(graphCoords)\n",
    "graphTree = cKDTree(graphCoords)"
   ]
  },
  {
   "cell_type": "code",
   "execution_count": 11,
   "metadata": {
    "scrolled": false
   },
   "outputs": [],
   "source": [
    "over_playlist = list()\n",
    "\n",
    "# For each playlist, access nearest tracks\n",
    "for name in tid_c['Playlist name'].unique():\n",
    "    \n",
    "    playlist=list()\n",
    "    # Retrieve the closest track ID for the given playlist\n",
    "    tid = nearest_tracks[name]\n",
    "    \n",
    "    # Find closest tracks in the graph for a given custom song\n",
    "    dist, idx = graphTree.query([tuple(coords2D[x]) for x in tid], k=N, p=2)\n",
    "    \n",
    "    # Create the playlist\n",
    "    playlist = list([idx_dict[node] for node in idx.ravel()])\n",
    "\n",
    "    # Select in the closest neighbours N random tracks\n",
    "    playlist=random.sample(playlist,N)\n",
    "\n",
    "    # Add to sub-meta playlist\n",
    "    over_playlist.append(playlist)\n",
    "    \n",
    "#\n",
    "meta_playlist.update({'2D':over_playlist})"
   ]
  },
  {
   "cell_type": "markdown",
   "metadata": {},
   "source": [
    "## Heat Music"
   ]
  },
  {
   "cell_type": "code",
   "execution_count": 12,
   "metadata": {},
   "outputs": [],
   "source": [
    "# Construct Graph\n",
    "conn_graph = np.load(\"data/connGraph.npy\")\n",
    "G = graphs.Graph(conn_graph)\n",
    "G.compute_fourier_basis()\n",
    "G.set_coordinates()"
   ]
  },
  {
   "cell_type": "code",
   "execution_count": 13,
   "metadata": {},
   "outputs": [],
   "source": [
    "over_playlist = list()\n",
    "\n",
    "# For each playlist, access nearest tracks\n",
    "for name in tid_c['Playlist name'].unique():\n",
    "\n",
    "    # Map the nearest track IDs to the nodes position\n",
    "    musics_pos = [inv_dict[tid] for tid in nearest_tracks[name]]\n",
    "\n",
    "    list_heat_neighbour = np.array([]).astype(int)\n",
    "    s_out_moy = np.zeros(G.N)\n",
    "\n",
    "    for i in musics_pos:\n",
    "        s = np.zeros(G.N)\n",
    "        s[i]=1\n",
    "\n",
    "        g = filters.Heat(G, tau, normalize=False)\n",
    "        s_out = g.filter(s, method='chebyshev')\n",
    "        s_out = s_out/max(s_out)\n",
    "\n",
    "        s_out_moy = s_out_moy + s_out\n",
    "\n",
    "    ind_max_heat = np.argsort(s_out_moy)\n",
    "    list_heat_neighbour= np.append(list_heat_neighbour,ind_max_heat[-N:])\n",
    "    \n",
    "    # Create the playlist\n",
    "    playlist = [idx_dict[idx] for idx in list_heat_neighbour]\n",
    "    \n",
    "    # Select in the closest neighbours N random tracks\n",
    "    playlist = random.sample(playlist,N)\n",
    "\n",
    "    # Add to sub-meta playlist\n",
    "    over_playlist.append(playlist)\n",
    "    \n",
    "# \n",
    "meta_playlist.update({'Heat':over_playlist})"
   ]
  },
  {
   "cell_type": "markdown",
   "metadata": {},
   "source": [
    "# Output"
   ]
  },
  {
   "cell_type": "code",
   "execution_count": 14,
   "metadata": {},
   "outputs": [],
   "source": [
    "def method_selection(m):\n",
    "\n",
    "    for i,playlist in enumerate(tid_c['Playlist name'].unique()):\n",
    "        print('Playlist:', playlist)\n",
    "        display_result(meta_playlist[m][i])"
   ]
  },
  {
   "cell_type": "code",
   "execution_count": 15,
   "metadata": {},
   "outputs": [
    {
     "data": {
      "application/vnd.jupyter.widget-view+json": {
       "model_id": "1d94ca9307214563a6c661bfb093bc1b",
       "version_major": 2,
       "version_minor": 0
      },
      "text/plain": [
       "interactive(children=(Dropdown(description='m', options=('518D', '2D', 'Heat'), value='518D'), Output()), _dom…"
      ]
     },
     "metadata": {},
     "output_type": "display_data"
    }
   ],
   "source": [
    "# '518D' -> 518D features space | closely related songs, tonality and rythm are well respected, more genre mixity\n",
    "# '2D' -> 2D graphs coords      | closely related, but staying within the same genre\n",
    "# 'Heat' -> Heat diffusion      | more variety, depending on the tau parameter\n",
    "interact(method_selection, m=['518D','2D', 'Heat']);"
   ]
  }
 ],
 "metadata": {
  "kernelspec": {
   "display_name": "Python 3",
   "language": "python",
   "name": "python3"
  },
  "language_info": {
   "codemirror_mode": {
    "name": "ipython",
    "version": 3
   },
   "file_extension": ".py",
   "mimetype": "text/x-python",
   "name": "python",
   "nbconvert_exporter": "python",
   "pygments_lexer": "ipython3",
   "version": "3.6.6"
  },
  "widgets": {
   "application/vnd.jupyter.widget-state+json": {
    "state": {
     "1d94ca9307214563a6c661bfb093bc1b": {
      "model_module": "@jupyter-widgets/controls",
      "model_module_version": "1.4.0",
      "model_name": "VBoxModel",
      "state": {
       "_dom_classes": [
        "widget-interact"
       ],
       "children": [
        "IPY_MODEL_d31c20851f4246d7aed906a83e6ba8b6",
        "IPY_MODEL_620ca91b3d15432ca747b35e0748bc2d"
       ],
       "layout": "IPY_MODEL_874db63d4bdf4762939a772e682cce65"
      }
     },
     "620ca91b3d15432ca747b35e0748bc2d": {
      "model_module": "@jupyter-widgets/output",
      "model_module_version": "1.0.0",
      "model_name": "OutputModel",
      "state": {
       "layout": "IPY_MODEL_a62eb38a6b0e4433ab0c321dc3c12ed5",
       "outputs": [
        {
         "name": "stdout",
         "output_type": "stream",
         "text": "Playlist: Demo 1\n"
        },
        {
         "data": {
          "text/html": "<style  type=\"text/css\" >\n</style>  \n<table id=\"T_65e8910c_14f8_11e9_92cb_e788d0e20c54\" > \n<thead>    <tr> \n        <th class=\"blank level0\" ></th> \n        <th class=\"col_heading level0 col0\" >Artist</th> \n        <th class=\"col_heading level0 col1\" >Title</th> \n        <th class=\"col_heading level0 col2\" >Links</th> \n    </tr></thead> \n<tbody>    <tr> \n        <th id=\"T_65e8910c_14f8_11e9_92cb_e788d0e20c54level0_row0\" class=\"row_heading level0 row0\" >0</th> \n        <td id=\"T_65e8910c_14f8_11e9_92cb_e788d0e20c54row0_col0\" class=\"data row0 col0\" >Derek Clegg</td> \n        <td id=\"T_65e8910c_14f8_11e9_92cb_e788d0e20c54row0_col1\" class=\"data row0 col1\" >Like New</td> \n        <td id=\"T_65e8910c_14f8_11e9_92cb_e788d0e20c54row0_col2\" class=\"data row0 col2\" ><a target=\"_blank\" href=\"http://freemusicarchive.org/music/Derek_Clegg/Left_Side_From_My_Right/Derek_Clegg_-_Left_Side_From_My_Right_-_10_Like_New\">Open</a>&nbsp;&nbsp;&nbsp;&nbsp;&nbsp;&nbsp;&nbsp<a target=\"_blank\" href=\"http://freemusicarchive.org/music/Derek_Clegg/Left_Side_From_My_Right/Derek_Clegg_-_Left_Side_From_My_Right_-_10_Like_New/download\">Download</a></td> \n    </tr>    <tr> \n        <th id=\"T_65e8910c_14f8_11e9_92cb_e788d0e20c54level0_row1\" class=\"row_heading level0 row1\" >1</th> \n        <td id=\"T_65e8910c_14f8_11e9_92cb_e788d0e20c54row1_col0\" class=\"data row1 col0\" >Pete Lund</td> \n        <td id=\"T_65e8910c_14f8_11e9_92cb_e788d0e20c54row1_col1\" class=\"data row1 col1\" >Gypsy Cab</td> \n        <td id=\"T_65e8910c_14f8_11e9_92cb_e788d0e20c54row1_col2\" class=\"data row1 col2\" ><a target=\"_blank\" href=\"http://freemusicarchive.org/music/Pete_Lund/Gypsy_Cab/01_-_Gypsy_Cab\">Open</a>&nbsp;&nbsp;&nbsp;&nbsp;&nbsp;&nbsp;&nbsp<a target=\"_blank\" href=\"http://freemusicarchive.org/music/Pete_Lund/Gypsy_Cab/01_-_Gypsy_Cab/download\">Download</a></td> \n    </tr>    <tr> \n        <th id=\"T_65e8910c_14f8_11e9_92cb_e788d0e20c54level0_row2\" class=\"row_heading level0 row2\" >2</th> \n        <td id=\"T_65e8910c_14f8_11e9_92cb_e788d0e20c54row2_col0\" class=\"data row2 col0\" >Dyslexic Fudgicle</td> \n        <td id=\"T_65e8910c_14f8_11e9_92cb_e788d0e20c54row2_col1\" class=\"data row2 col1\" >Rock n' Roll (2008)</td> \n        <td id=\"T_65e8910c_14f8_11e9_92cb_e788d0e20c54row2_col2\" class=\"data row2 col2\" ><a target=\"_blank\" href=\"http://freemusicarchive.org/music/Dyslexic_Fudgicle/Dyslexic_Fudgicle_-_2015_Release/17_Rock_n_Roll_2008\">Open</a>&nbsp;&nbsp;&nbsp;&nbsp;&nbsp;&nbsp;&nbsp<a target=\"_blank\" href=\"http://freemusicarchive.org/music/Dyslexic_Fudgicle/Dyslexic_Fudgicle_-_2015_Release/17_Rock_n_Roll_2008/download\">Download</a></td> \n    </tr>    <tr> \n        <th id=\"T_65e8910c_14f8_11e9_92cb_e788d0e20c54level0_row3\" class=\"row_heading level0 row3\" >3</th> \n        <td id=\"T_65e8910c_14f8_11e9_92cb_e788d0e20c54row3_col0\" class=\"data row3 col0\" >Antethic</td> \n        <td id=\"T_65e8910c_14f8_11e9_92cb_e788d0e20c54row3_col1\" class=\"data row3 col1\" >This Game Has No Name</td> \n        <td id=\"T_65e8910c_14f8_11e9_92cb_e788d0e20c54row3_col2\" class=\"data row3 col2\" ><a target=\"_blank\" href=\"http://freemusicarchive.org/music/Antethic/Origin/04_-_This_Game_Has_No_Name\">Open</a>&nbsp;&nbsp;&nbsp;&nbsp;&nbsp;&nbsp;&nbsp<a target=\"_blank\" href=\"http://freemusicarchive.org/music/Antethic/Origin/04_-_This_Game_Has_No_Name/download\">Download</a></td> \n    </tr>    <tr> \n        <th id=\"T_65e8910c_14f8_11e9_92cb_e788d0e20c54level0_row4\" class=\"row_heading level0 row4\" >4</th> \n        <td id=\"T_65e8910c_14f8_11e9_92cb_e788d0e20c54row4_col0\" class=\"data row4 col0\" >Angstbreaker</td> \n        <td id=\"T_65e8910c_14f8_11e9_92cb_e788d0e20c54row4_col1\" class=\"data row4 col1\" >2/3 Straight Edge</td> \n        <td id=\"T_65e8910c_14f8_11e9_92cb_e788d0e20c54row4_col2\" class=\"data row4 col2\" ><a target=\"_blank\" href=\"http://freemusicarchive.org/music/Angstbreaker/MMXVI_1810/Angstbreaker-MMXVI-04-Two-Thirds-Straight-Edge\">Open</a>&nbsp;&nbsp;&nbsp;&nbsp;&nbsp;&nbsp;&nbsp<a target=\"_blank\" href=\"http://freemusicarchive.org/music/Angstbreaker/MMXVI_1810/Angstbreaker-MMXVI-04-Two-Thirds-Straight-Edge/download\">Download</a></td> \n    </tr>    <tr> \n        <th id=\"T_65e8910c_14f8_11e9_92cb_e788d0e20c54level0_row5\" class=\"row_heading level0 row5\" >5</th> \n        <td id=\"T_65e8910c_14f8_11e9_92cb_e788d0e20c54row5_col0\" class=\"data row5 col0\" >Peter Biedermann</td> \n        <td id=\"T_65e8910c_14f8_11e9_92cb_e788d0e20c54row5_col1\" class=\"data row5 col1\" >Cover Up</td> \n        <td id=\"T_65e8910c_14f8_11e9_92cb_e788d0e20c54row5_col2\" class=\"data row5 col2\" ><a target=\"_blank\" href=\"http://freemusicarchive.org/music/Peter_Biedermann/Live_at_WFMU_5508_on_Irene_Trudels_show/Cover_Up\">Open</a>&nbsp;&nbsp;&nbsp;&nbsp;&nbsp;&nbsp;&nbsp<a target=\"_blank\" href=\"http://freemusicarchive.org/music/Peter_Biedermann/Live_at_WFMU_5508_on_Irene_Trudels_show/Cover_Up/download\">Download</a></td> \n    </tr>    <tr> \n        <th id=\"T_65e8910c_14f8_11e9_92cb_e788d0e20c54level0_row6\" class=\"row_heading level0 row6\" >6</th> \n        <td id=\"T_65e8910c_14f8_11e9_92cb_e788d0e20c54row6_col0\" class=\"data row6 col0\" >Koonda Holaa</td> \n        <td id=\"T_65e8910c_14f8_11e9_92cb_e788d0e20c54row6_col1\" class=\"data row6 col1\" >10 Acres of the Finest Sand</td> \n        <td id=\"T_65e8910c_14f8_11e9_92cb_e788d0e20c54row6_col2\" class=\"data row6 col2\" ><a target=\"_blank\" href=\"http://freemusicarchive.org/music/Koonda_Holaa/10_Acres_of_the_Finest_Sand/10_Acres_of_the_Finest_Sand\">Open</a>&nbsp;&nbsp;&nbsp;&nbsp;&nbsp;&nbsp;&nbsp<a target=\"_blank\" href=\"http://freemusicarchive.org/music/Koonda_Holaa/10_Acres_of_the_Finest_Sand/10_Acres_of_the_Finest_Sand/download\">Download</a></td> \n    </tr>    <tr> \n        <th id=\"T_65e8910c_14f8_11e9_92cb_e788d0e20c54level0_row7\" class=\"row_heading level0 row7\" >7</th> \n        <td id=\"T_65e8910c_14f8_11e9_92cb_e788d0e20c54row7_col0\" class=\"data row7 col0\" >Derek Clegg</td> \n        <td id=\"T_65e8910c_14f8_11e9_92cb_e788d0e20c54row7_col1\" class=\"data row7 col1\" >So Is She</td> \n        <td id=\"T_65e8910c_14f8_11e9_92cb_e788d0e20c54row7_col2\" class=\"data row7 col2\" ><a target=\"_blank\" href=\"http://freemusicarchive.org/music/Derek_Clegg/Derek_Clegg/Derek_Clegg_-_Derek_Clegg_-_09_So_Is_She\">Open</a>&nbsp;&nbsp;&nbsp;&nbsp;&nbsp;&nbsp;&nbsp<a target=\"_blank\" href=\"http://freemusicarchive.org/music/Derek_Clegg/Derek_Clegg/Derek_Clegg_-_Derek_Clegg_-_09_So_Is_She/download\">Download</a></td> \n    </tr>    <tr> \n        <th id=\"T_65e8910c_14f8_11e9_92cb_e788d0e20c54level0_row8\" class=\"row_heading level0 row8\" >8</th> \n        <td id=\"T_65e8910c_14f8_11e9_92cb_e788d0e20c54row8_col0\" class=\"data row8 col0\" >Ex Cops</td> \n        <td id=\"T_65e8910c_14f8_11e9_92cb_e788d0e20c54row8_col1\" class=\"data row8 col1\" >Springbreak (Happy Birthday)</td> \n        <td id=\"T_65e8910c_14f8_11e9_92cb_e788d0e20c54row8_col2\" class=\"data row8 col2\" ><a target=\"_blank\" href=\"http://freemusicarchive.org/music/Ex_Cops/Live_on_Duanes_Show_on_WFMU_112712/Ex_Cops_-_04_-_Seperator\">Open</a>&nbsp;&nbsp;&nbsp;&nbsp;&nbsp;&nbsp;&nbsp<a target=\"_blank\" href=\"http://freemusicarchive.org/music/Ex_Cops/Live_on_Duanes_Show_on_WFMU_112712/Ex_Cops_-_04_-_Seperator/download\">Download</a></td> \n    </tr>    <tr> \n        <th id=\"T_65e8910c_14f8_11e9_92cb_e788d0e20c54level0_row9\" class=\"row_heading level0 row9\" >9</th> \n        <td id=\"T_65e8910c_14f8_11e9_92cb_e788d0e20c54row9_col0\" class=\"data row9 col0\" >Derek Clegg</td> \n        <td id=\"T_65e8910c_14f8_11e9_92cb_e788d0e20c54row9_col1\" class=\"data row9 col1\" >Last Chance</td> \n        <td id=\"T_65e8910c_14f8_11e9_92cb_e788d0e20c54row9_col2\" class=\"data row9 col2\" ><a target=\"_blank\" href=\"http://freemusicarchive.org/music/Derek_Clegg/End_Of_Something/Derek_Clegg_-_End_of_Something_-_04_Last_Chance\">Open</a>&nbsp;&nbsp;&nbsp;&nbsp;&nbsp;&nbsp;&nbsp<a target=\"_blank\" href=\"http://freemusicarchive.org/music/Derek_Clegg/End_Of_Something/Derek_Clegg_-_End_of_Something_-_04_Last_Chance/download\">Download</a></td> \n    </tr></tbody> \n</table> ",
          "text/plain": "<pandas.io.formats.style.Styler at 0x7fd2dacbef60>"
         },
         "metadata": {},
         "output_type": "display_data"
        },
        {
         "name": "stdout",
         "output_type": "stream",
         "text": "Playlist: Demo 2\n"
        },
        {
         "data": {
          "text/html": "<style  type=\"text/css\" >\n</style>  \n<table id=\"T_65eee85c_14f8_11e9_a71f_e788d0e20c54\" > \n<thead>    <tr> \n        <th class=\"blank level0\" ></th> \n        <th class=\"col_heading level0 col0\" >Artist</th> \n        <th class=\"col_heading level0 col1\" >Title</th> \n        <th class=\"col_heading level0 col2\" >Links</th> \n    </tr></thead> \n<tbody>    <tr> \n        <th id=\"T_65eee85c_14f8_11e9_a71f_e788d0e20c54level0_row0\" class=\"row_heading level0 row0\" >0</th> \n        <td id=\"T_65eee85c_14f8_11e9_a71f_e788d0e20c54row0_col0\" class=\"data row0 col0\" >BrokeMC</td> \n        <td id=\"T_65eee85c_14f8_11e9_a71f_e788d0e20c54row0_col1\" class=\"data row0 col1\" >In the Dark</td> \n        <td id=\"T_65eee85c_14f8_11e9_a71f_e788d0e20c54row0_col2\" class=\"data row0 col2\" ><a target=\"_blank\" href=\"http://freemusicarchive.org/music/BrokeMC/Seeing_Things/In_the_Dark\">Open</a>&nbsp;&nbsp;&nbsp;&nbsp;&nbsp;&nbsp;&nbsp<a target=\"_blank\" href=\"http://freemusicarchive.org/music/BrokeMC/Seeing_Things/In_the_Dark/download\">Download</a></td> \n    </tr>    <tr> \n        <th id=\"T_65eee85c_14f8_11e9_a71f_e788d0e20c54level0_row1\" class=\"row_heading level0 row1\" >1</th> \n        <td id=\"T_65eee85c_14f8_11e9_a71f_e788d0e20c54row1_col0\" class=\"data row1 col0\" >Dollar Boyz</td> \n        <td id=\"T_65eee85c_14f8_11e9_a71f_e788d0e20c54row1_col1\" class=\"data row1 col1\" >Soul Survivor</td> \n        <td id=\"T_65eee85c_14f8_11e9_a71f_e788d0e20c54row1_col2\" class=\"data row1 col2\" ><a target=\"_blank\" href=\"http://freemusicarchive.org/music/Dollar_Boyz/Welcome_To_Chi-Raq/Dollar_Boyz_CD_Track_17_Welcome_To_Chiraq\">Open</a>&nbsp;&nbsp;&nbsp;&nbsp;&nbsp;&nbsp;&nbsp<a target=\"_blank\" href=\"http://freemusicarchive.org/music/Dollar_Boyz/Welcome_To_Chi-Raq/Dollar_Boyz_CD_Track_17_Welcome_To_Chiraq/download\">Download</a></td> \n    </tr>    <tr> \n        <th id=\"T_65eee85c_14f8_11e9_a71f_e788d0e20c54level0_row2\" class=\"row_heading level0 row2\" >2</th> \n        <td id=\"T_65eee85c_14f8_11e9_a71f_e788d0e20c54row2_col0\" class=\"data row2 col0\" >transient</td> \n        <td id=\"T_65eee85c_14f8_11e9_a71f_e788d0e20c54row2_col1\" class=\"data row2 col1\" >Take a Trip and Never Leave the Farm</td> \n        <td id=\"T_65eee85c_14f8_11e9_a71f_e788d0e20c54row2_col2\" class=\"data row2 col2\" ><a target=\"_blank\" href=\"http://freemusicarchive.org/music/Transient/Symphony_of_Curves/transient-08-take_a_trip_and_never_leave_the_farm\">Open</a>&nbsp;&nbsp;&nbsp;&nbsp;&nbsp;&nbsp;&nbsp<a target=\"_blank\" href=\"http://freemusicarchive.org/music/Transient/Symphony_of_Curves/transient-08-take_a_trip_and_never_leave_the_farm/download\">Download</a></td> \n    </tr>    <tr> \n        <th id=\"T_65eee85c_14f8_11e9_a71f_e788d0e20c54level0_row3\" class=\"row_heading level0 row3\" >3</th> \n        <td id=\"T_65eee85c_14f8_11e9_a71f_e788d0e20c54row3_col0\" class=\"data row3 col0\" >Kellee Maize</td> \n        <td id=\"T_65eee85c_14f8_11e9_a71f_e788d0e20c54row3_col1\" class=\"data row3 col1\" >Trapped</td> \n        <td id=\"T_65eee85c_14f8_11e9_a71f_e788d0e20c54row3_col2\" class=\"data row3 col2\" ><a target=\"_blank\" href=\"http://freemusicarchive.org/music/Kellee_Maize/Integration/Trapped\">Open</a>&nbsp;&nbsp;&nbsp;&nbsp;&nbsp;&nbsp;&nbsp<a target=\"_blank\" href=\"http://freemusicarchive.org/music/Kellee_Maize/Integration/Trapped/download\">Download</a></td> \n    </tr>    <tr> \n        <th id=\"T_65eee85c_14f8_11e9_a71f_e788d0e20c54level0_row4\" class=\"row_heading level0 row4\" >4</th> \n        <td id=\"T_65eee85c_14f8_11e9_a71f_e788d0e20c54row4_col0\" class=\"data row4 col0\" >S.J. Mellia</td> \n        <td id=\"T_65eee85c_14f8_11e9_a71f_e788d0e20c54row4_col1\" class=\"data row4 col1\" >FluffSkull</td> \n        <td id=\"T_65eee85c_14f8_11e9_a71f_e788d0e20c54row4_col2\" class=\"data row4 col2\" ><a target=\"_blank\" href=\"http://freemusicarchive.org/music/SJ_Mellia/FluffSkull_EP/01_FluffSkull\">Open</a>&nbsp;&nbsp;&nbsp;&nbsp;&nbsp;&nbsp;&nbsp<a target=\"_blank\" href=\"http://freemusicarchive.org/music/SJ_Mellia/FluffSkull_EP/01_FluffSkull/download\">Download</a></td> \n    </tr>    <tr> \n        <th id=\"T_65eee85c_14f8_11e9_a71f_e788d0e20c54level0_row5\" class=\"row_heading level0 row5\" >5</th> \n        <td id=\"T_65eee85c_14f8_11e9_a71f_e788d0e20c54row5_col0\" class=\"data row5 col0\" >Cheese N Pot-C</td> \n        <td id=\"T_65eee85c_14f8_11e9_a71f_e788d0e20c54row5_col1\" class=\"data row5 col1\" >Bloc Party (Instrumental)</td> \n        <td id=\"T_65eee85c_14f8_11e9_a71f_e788d0e20c54row5_col2\" class=\"data row5 col2\" ><a target=\"_blank\" href=\"http://freemusicarchive.org/music/Cheese_N_Pot-C/Bloc_Party_Featuring_CM_aka_Creative_The_Honorable_Sleaze_C-Doc__Mported_Flows/09_-_Bloc_Party_Instrumental\">Open</a>&nbsp;&nbsp;&nbsp;&nbsp;&nbsp;&nbsp;&nbsp<a target=\"_blank\" href=\"http://freemusicarchive.org/music/Cheese_N_Pot-C/Bloc_Party_Featuring_CM_aka_Creative_The_Honorable_Sleaze_C-Doc__Mported_Flows/09_-_Bloc_Party_Instrumental/download\">Download</a></td> \n    </tr>    <tr> \n        <th id=\"T_65eee85c_14f8_11e9_a71f_e788d0e20c54level0_row6\" class=\"row_heading level0 row6\" >6</th> \n        <td id=\"T_65eee85c_14f8_11e9_a71f_e788d0e20c54row6_col0\" class=\"data row6 col0\" >DJ /rupture</td> \n        <td id=\"T_65eee85c_14f8_11e9_a71f_e788d0e20c54row6_col1\" class=\"data row6 col1\" >Je Suis Le Peuple Sans Visage Featuring Arnaud Michniak</td> \n        <td id=\"T_65eee85c_14f8_11e9_a71f_e788d0e20c54row6_col2\" class=\"data row6 col2\" ><a target=\"_blank\" href=\"http://freemusicarchive.org/music/DJRupture/Special_Gunpowder/13_Je_Suis_Le_Peuple_Sans_Visage_Featuring_Arnaud_Michniak\">Open</a>&nbsp;&nbsp;&nbsp;&nbsp;&nbsp;&nbsp;&nbsp<a target=\"_blank\" href=\"http://freemusicarchive.org/music/DJRupture/Special_Gunpowder/13_Je_Suis_Le_Peuple_Sans_Visage_Featuring_Arnaud_Michniak/download\">Download</a></td> \n    </tr>    <tr> \n        <th id=\"T_65eee85c_14f8_11e9_a71f_e788d0e20c54level0_row7\" class=\"row_heading level0 row7\" >7</th> \n        <td id=\"T_65eee85c_14f8_11e9_a71f_e788d0e20c54row7_col0\" class=\"data row7 col0\" >The Impossebulls</td> \n        <td id=\"T_65eee85c_14f8_11e9_a71f_e788d0e20c54row7_col1\" class=\"data row7 col1\" >Subterranean Homesick Blues</td> \n        <td id=\"T_65eee85c_14f8_11e9_a71f_e788d0e20c54row7_col2\" class=\"data row7 col2\" ><a target=\"_blank\" href=\"http://freemusicarchive.org/music/The_Impossebulls/The_More_Things_Stay_The_Same/04_-_Subterranean_Homesick_Blues\">Open</a>&nbsp;&nbsp;&nbsp;&nbsp;&nbsp;&nbsp;&nbsp<a target=\"_blank\" href=\"http://freemusicarchive.org/music/The_Impossebulls/The_More_Things_Stay_The_Same/04_-_Subterranean_Homesick_Blues/download\">Download</a></td> \n    </tr>    <tr> \n        <th id=\"T_65eee85c_14f8_11e9_a71f_e788d0e20c54level0_row8\" class=\"row_heading level0 row8\" >8</th> \n        <td id=\"T_65eee85c_14f8_11e9_a71f_e788d0e20c54row8_col0\" class=\"data row8 col0\" >Aviscerall</td> \n        <td id=\"T_65eee85c_14f8_11e9_a71f_e788d0e20c54row8_col1\" class=\"data row8 col1\" >Zaduu (Feat. Crystal Tokyo)</td> \n        <td id=\"T_65eee85c_14f8_11e9_a71f_e788d0e20c54row8_col2\" class=\"data row8 col2\" ><a target=\"_blank\" href=\"http://freemusicarchive.org/music/Aviscerall/Nostalgia_Infinite/Aviscerall_-_Nostalgia_Infinite_-_14_Zaduu_Feat_Crystal_Tokyo\">Open</a>&nbsp;&nbsp;&nbsp;&nbsp;&nbsp;&nbsp;&nbsp<a target=\"_blank\" href=\"http://freemusicarchive.org/music/Aviscerall/Nostalgia_Infinite/Aviscerall_-_Nostalgia_Infinite_-_14_Zaduu_Feat_Crystal_Tokyo/download\">Download</a></td> \n    </tr>    <tr> \n        <th id=\"T_65eee85c_14f8_11e9_a71f_e788d0e20c54level0_row9\" class=\"row_heading level0 row9\" >9</th> \n        <td id=\"T_65eee85c_14f8_11e9_a71f_e788d0e20c54row9_col0\" class=\"data row9 col0\" >Kellee Maize</td> \n        <td id=\"T_65eee85c_14f8_11e9_a71f_e788d0e20c54row9_col1\" class=\"data row9 col1\" >Big Plans</td> \n        <td id=\"T_65eee85c_14f8_11e9_a71f_e788d0e20c54row9_col2\" class=\"data row9 col2\" ><a target=\"_blank\" href=\"http://freemusicarchive.org/music/Kellee_Maize/Aligned_Archetype/09__Kellee_Maize__Big_Plans__Aligned_Archetype__FrostWirecom\">Open</a>&nbsp;&nbsp;&nbsp;&nbsp;&nbsp;&nbsp;&nbsp<a target=\"_blank\" href=\"http://freemusicarchive.org/music/Kellee_Maize/Aligned_Archetype/09__Kellee_Maize__Big_Plans__Aligned_Archetype__FrostWirecom/download\">Download</a></td> \n    </tr></tbody> \n</table> ",
          "text/plain": "<pandas.io.formats.style.Styler at 0x7fd2d4a01fd0>"
         },
         "metadata": {},
         "output_type": "display_data"
        }
       ]
      }
     },
     "874db63d4bdf4762939a772e682cce65": {
      "model_module": "@jupyter-widgets/base",
      "model_module_version": "1.1.0",
      "model_name": "LayoutModel",
      "state": {}
     },
     "8a8d4b2437694f83bfd0a67e4b39ac40": {
      "model_module": "@jupyter-widgets/base",
      "model_module_version": "1.1.0",
      "model_name": "LayoutModel",
      "state": {}
     },
     "a62eb38a6b0e4433ab0c321dc3c12ed5": {
      "model_module": "@jupyter-widgets/base",
      "model_module_version": "1.1.0",
      "model_name": "LayoutModel",
      "state": {}
     },
     "b1113c2531b44569a56965f297a74f12": {
      "model_module": "@jupyter-widgets/controls",
      "model_module_version": "1.4.0",
      "model_name": "DescriptionStyleModel",
      "state": {
       "description_width": ""
      }
     },
     "d31c20851f4246d7aed906a83e6ba8b6": {
      "model_module": "@jupyter-widgets/controls",
      "model_module_version": "1.4.0",
      "model_name": "DropdownModel",
      "state": {
       "_options_labels": [
        "518D",
        "2D",
        "Heat"
       ],
       "description": "m",
       "index": 0,
       "layout": "IPY_MODEL_8a8d4b2437694f83bfd0a67e4b39ac40",
       "style": "IPY_MODEL_b1113c2531b44569a56965f297a74f12"
      }
     }
    },
    "version_major": 2,
    "version_minor": 0
   }
  }
 },
 "nbformat": 4,
 "nbformat_minor": 2
}
